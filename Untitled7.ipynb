{
  "nbformat": 4,
  "nbformat_minor": 0,
  "metadata": {
    "colab": {
      "name": "Untitled7.ipynb",
      "provenance": [],
      "machine_shape": "hm"
    },
    "kernelspec": {
      "name": "python3",
      "display_name": "Python 3"
    },
    "accelerator": "GPU"
  },
  "cells": [
    {
      "cell_type": "code",
      "metadata": {
        "id": "oNHMpq0KGUyL",
        "colab_type": "code",
        "colab": {}
      },
      "source": [
        "import torch\n",
        "from torch.utils.data import DataLoader, sampler\n",
        "from torchvision.datasets import MNIST\n",
        "import torch.optim\n",
        "from  torch import nn\n",
        "from torchvision import transforms "
      ],
      "execution_count": 0,
      "outputs": []
    },
    {
      "cell_type": "markdown",
      "metadata": {
        "colab_type": "text",
        "id": "MtSEl26_7LkR"
      },
      "source": [
        ""
      ]
    },
    {
      "cell_type": "code",
      "metadata": {
        "id": "RBIWhTIbGZNQ",
        "colab_type": "code",
        "colab": {}
      },
      "source": [
        "transformations = transforms.Compose([ transforms.ToTensor(),transforms.Normalize(mean =(0.1307, ) , std = (0.3081,))])\n",
        "data = MNIST( \"\\MNIST\", train = True,download = True, transform= transformations )"
      ],
      "execution_count": 0,
      "outputs": []
    },
    {
      "cell_type": "code",
      "metadata": {
        "id": "Rz46Y1g8Ufhn",
        "colab_type": "code",
        "colab": {}
      },
      "source": [
        "import matplotlib.pyplot as plt \n",
        "train_loader  = DataLoader(data, batch_size = 200)"
      ],
      "execution_count": 0,
      "outputs": []
    },
    {
      "cell_type": "code",
      "metadata": {
        "id": "hPYvNNN2UtCA",
        "colab_type": "code",
        "colab": {}
      },
      "source": [
        "class identity_block (nn.Module):\n",
        "\n",
        "  def __init__(self, channels_in,  filters, f= 1):\n",
        "    super().__init__()\n",
        "    c1,c2,c3 = filters\n",
        "    self.model0 = nn.Sequential( nn.Conv2d(channels_in, c1, kernel_size=(1,1),stride = (1,1) ),\n",
        "                          nn.BatchNorm2d(c1, momentum = None, affine = False),\n",
        "                            nn.LeakyReLU(),\n",
        "                       \n",
        "                          nn.Conv2d( c1 ,c2, kernel_size=(f,f),stride = (1,1), padding = (int((f-1)/2),int((f-1)/2))),\n",
        "                          nn.BatchNorm2d(c2, momentum = None, affine = False),\n",
        "                            nn.LeakyReLU(),\n",
        "                          \n",
        "                          nn.Conv2d(c2,c3, kernel_size=(1,1),stride = (1,1) ),\n",
        "                          nn.BatchNorm2d(c3, momentum = None, affine = False))\n",
        "    \n",
        "\n",
        "    for i in self.model0:\n",
        "      if list(i.parameters()).__len__()>0:\n",
        "        i.parameters = [ nn.init.xavier_uniform_(j) for j in list( i.weight)]\n",
        "                            \n",
        "    #keep the channel number of output and x same\n",
        "\n",
        "    \n",
        "  def forward( self,img):\n",
        "    z = self.model0(img) + img\n",
        "\n",
        "    out = nn.LeakyReLU()\n",
        "\n",
        "    return out(z)\n",
        "\n",
        "class convolutional_block (nn.Module):\n",
        "\n",
        "  def __init__( self, channels_in,filters, s= 1, f= 1):\n",
        "    super().__init__()\n",
        "    c1,c2,c3 = filters\n",
        "\n",
        "    self.model0 = nn.Sequential( nn.Conv2d(channels_in, c1, kernel_size=(1,1), stride = (s,s) ),\n",
        "                            nn.BatchNorm2d(c1, momentum = None, affine = False),\n",
        "                            nn.LeakyReLU(),\n",
        "                            nn.Conv2d( c1 ,c2, kernel_size =(f,f),stride = (1,1 ), padding =( int( (f-1)/2),int((f-1)/2))),\n",
        "                            nn.BatchNorm2d(c2, momentum = None, affine = False),\n",
        "                            nn.LeakyReLU(),\n",
        "                            \n",
        "                            nn.Conv2d( c2,c3, kernel_size=(1,1),stride = (1,1) ),\n",
        "                            nn.BatchNorm2d(c3, momentum = None, affine = False))\n",
        "                            \n",
        "    self.model1 = nn.Sequential( nn.Conv2d(channels_in, c3, kernel_size=(1,1),stride = (s,s) ),\n",
        "                              nn.BatchNorm2d(c3, momentum = None, affine = False) )\n",
        "    \n",
        "    \n",
        "    for i in self.model0:\n",
        "      if list(i.parameters()).__len__()>0:\n",
        "        i.parameters = [ nn.init.xavier_uniform_(j) for j in list( i.weight)]\n",
        "\n",
        "    for i in self.model1:\n",
        "      if list(i.parameters()).__len__()>0:\n",
        "        i.parameters = [ nn.init.xavier_uniform_(j) for j in list( i.weight)]\n",
        "    \n",
        "    #keep the channel number of output and x same\n",
        "\n",
        "  def forward(self, img):\n",
        "\n",
        "    final_model = nn.LeakyReLU()\n",
        "    x = self.model0(img)\n",
        "    y = self.model1(img)\n",
        "    \n",
        "    return final_model( x+y )"
      ],
      "execution_count": 0,
      "outputs": []
    },
    {
      "cell_type": "code",
      "metadata": {
        "id": "aOz18QDQS7TC",
        "colab_type": "code",
        "colab": {}
      },
      "source": [
        "class flatten(nn.Module):\n",
        "  def forward( self, x ):\n",
        "    a,b,c,d = x.shape\n",
        "    return x.view( a,-1 )\n"
      ],
      "execution_count": 0,
      "outputs": []
    },
    {
      "cell_type": "code",
      "metadata": {
        "id": "7pFUZ399VAvF",
        "colab_type": "code",
        "colab": {}
      },
      "source": [
        "class Resnet( nn.Module):\n",
        "  def __init__(self, lr_ = 0.01):\n",
        "    super().__init__()\n",
        "    self.device = torch.device( \"cuda\" if torch.cuda.is_available() else \"cpu\" )\n",
        "\n",
        "    self.model = nn.Sequential (nn.ConstantPad2d( 3,0 ),\n",
        "\n",
        "    nn.Conv2d(1,64, (2, 2), stride = (2, 2)),\n",
        "    nn.BatchNorm2d( 64, affine = False, momentum= None),\n",
        "    nn.ReLU(), \n",
        "\n",
        "  \n",
        "\n",
        "    convolutional_block( 64,filters = [64, 64, 256] , f = 3, s = 1), \n",
        "    identity_block(256,f= 3, filters =  [64, 64, 256]),\n",
        "    identity_block(256, f =  3,  filters = [64, 64, 256]),\n",
        "\n",
        "    convolutional_block(256,f = 3, filters = [128,128, 512], s = 2),\n",
        "    identity_block( 512,f = 3, filters = [128,128, 512]), \n",
        "    identity_block(512, f = 3, filters = [128,128, 512]), \n",
        "    identity_block(512, f = 3, filters = [128,128, 512]),\n",
        "\n",
        "    convolutional_block(512,f = 3, filters = [256,256, 1024], s = 2),\n",
        "    identity_block( 1024,f = 3, filters = [256,256,  1024]),\n",
        "    identity_block( 1024,f = 3, filters = [256,256,  1024]),\n",
        "    identity_block(1024, f = 3, filters = [256,256,  1024]),\n",
        "\n",
        "    convolutional_block(1024,f = 3, filters = [512,512, 2048], s = 2),\n",
        "    identity_block( 2048,f = 3, filters = [512,512, 2048]),\n",
        "    identity_block( 2048,f = 3, filters = [512,512, 2048]),\n",
        "    identity_block(2048, f = 3, filters = [512,512, 2048]),\n",
        "\n",
        "    convolutional_block(2048,f = 3, filters = [1024,1024,4*1024], s = 2),\n",
        "    identity_block( 4096,f = 3, filters = [1024,1024,4*1024]),\n",
        "    identity_block( 4096,f = 3, filters = [1024,1024,4*1024]),\n",
        "    identity_block(4096, f = 3, filters = [1024,1024,4*1024]),\n",
        "    \n",
        "    convolutional_block(2*2048,f = 3, filters = [2*1024,2*1024,2*4*1024], s = 2),\n",
        "    identity_block( 2*4096,f = 3, filters = [2*1024,2*1024,2*4*1024]),\n",
        "    identity_block( 2*4096,f = 3, filters = [2*1024,2*1024,2*4*1024]),\n",
        "    identity_block(2*4096, f = 3, filters = [2*1024,2*1024,2*4*1024]),\n",
        "    \n",
        "    flatten(),\n",
        "    nn.Linear(8192, 100 ),\n",
        "    nn.BatchNorm1d( 100 ),\n",
        "    nn.ReLU(),\n",
        "    nn.Linear(100,10),\n",
        "    nn.Softmax() )\n",
        "\n",
        "    self.optimizer  = torch.optim.Adam(self.model.parameters(), lr = lr_)\n",
        "    self.criterion  = nn.NLLLoss()\n",
        "\n",
        "  def forward(self, images):\n",
        "\n",
        "    x, y = torch.max(self.model(images),1)\n",
        "    return x,y\n",
        "\n",
        "  def train( self, train_loader, epochs):\n",
        "    self.model.to( self.device )\n",
        "    losses = []\n",
        "    for epoch in range(epochs):\n",
        "      print(epoch)\n",
        "\n",
        "      for images, labels in train_loader:\n",
        "        images = images.to( self.device)\n",
        "        labels = labels.to( self.device )\n",
        "\n",
        "        self.optimizer.zero_grad()\n",
        "\n",
        "        out = self.model(images)\n",
        "        \n",
        "        loss = self.criterion ( out, labels)\n",
        "\n",
        "        loss.backward()\n",
        "        self.optimizer.step()\n",
        "\n",
        "      losses.append(loss)\n",
        "    return losses\n",
        "\n",
        "\n",
        "  def predict( self, data_loader):\n",
        "    total_correct = 0\n",
        "    with torch.no_grad():\n",
        "\n",
        "      for inputs,label in data_loader:\n",
        "\n",
        "        inputs, labels = inputs.to( self.device), labels.to( self.device)\n",
        "\n",
        "        out = self.model(inputs)\n",
        "        _,pred =  torch.max(out,1)\n",
        "        correct = pred.eq( label).sum()\n",
        "        total_correct += correct\n",
        "\n",
        "    return total_correct/len(data_loader)"
      ],
      "execution_count": 0,
      "outputs": []
    },
    {
      "cell_type": "code",
      "metadata": {
        "id": "9JGBli8Kyr18",
        "colab_type": "code",
        "colab": {}
      },
      "source": [
        ""
      ],
      "execution_count": 0,
      "outputs": []
    },
    {
      "cell_type": "code",
      "metadata": {
        "id": "nl5ZJBUn1uUA",
        "colab_type": "code",
        "colab": {}
      },
      "source": [
        "data = MNIST( \"\\MNIST\", train = False,download = True, transform= transformations )\n",
        "test_loader = DataLoader(data, batch_size = 200 )  "
      ],
      "execution_count": 0,
      "outputs": []
    },
    {
      "cell_type": "code",
      "metadata": {
        "id": "UxOEyiNTP3dA",
        "colab_type": "code",
        "colab": {
          "base_uri": "https://localhost:8080/",
          "height": 419
        },
        "outputId": "10e7ee6b-6891-4578-af52-5014c76916a8"
      },
      "source": [
        "model = Resnet(0.01)\n",
        "a = model.train(train_loader, 5)\n",
        "\n",
        "plt.plot(a)"
      ],
      "execution_count": 7,
      "outputs": [
        {
          "output_type": "stream",
          "text": [
            "0\n"
          ],
          "name": "stdout"
        },
        {
          "output_type": "stream",
          "text": [
            "/usr/local/lib/python3.6/dist-packages/torch/nn/modules/container.py:100: UserWarning: Implicit dimension choice for softmax has been deprecated. Change the call to include dim=X as an argument.\n",
            "  input = module(input)\n"
          ],
          "name": "stderr"
        },
        {
          "output_type": "stream",
          "text": [
            "1\n",
            "2\n",
            "3\n",
            "4\n"
          ],
          "name": "stdout"
        },
        {
          "output_type": "execute_result",
          "data": {
            "text/plain": [
              "[<matplotlib.lines.Line2D at 0x7fd852b6f358>]"
            ]
          },
          "metadata": {
            "tags": []
          },
          "execution_count": 7
        },
        {
          "output_type": "display_data",
          "data": {
            "image/png": "iVBORw0KGgoAAAANSUhEUgAAAYIAAAD4CAYAAADhNOGaAAAABHNCSVQICAgIfAhkiAAAAAlwSFlz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\n",
            "text/plain": [
              "<Figure size 432x288 with 1 Axes>"
            ]
          },
          "metadata": {
            "tags": []
          }
        }
      ]
    },
    {
      "cell_type": "code",
      "metadata": {
        "id": "xUMIR00hXTpC",
        "colab_type": "code",
        "colab": {}
      },
      "source": [
        "def prediction( self, data_loader):\n",
        "    total_correct = 0\n",
        "    total_examples  = 0\n",
        "    with torch.no_grad():\n",
        "      \n",
        "      for inputs,label in data_loader:\n",
        "        examples, channels,_,g = inputs.shape\n",
        "        inputs, label = inputs.to( self.device), label.to( self.device)\n",
        "\n",
        "        out = self.model(inputs)\n",
        "        _,pred =  torch.max(out,1)\n",
        "        correct = pred.eq( label).sum()\n",
        "        total_correct += correct\n",
        "        total_examples += examples\n",
        "    return total_correct.item()/total_examples\n",
        "\n",
        "model.predict = prediction.__get__( model, Resnet)"
      ],
      "execution_count": 0,
      "outputs": []
    },
    {
      "cell_type": "code",
      "metadata": {
        "id": "OP0vmK3yXoC6",
        "colab_type": "code",
        "colab": {
          "base_uri": "https://localhost:8080/",
          "height": 87
        },
        "outputId": "92168a66-58d8-4d08-9fc4-fc25c3b026b4"
      },
      "source": [
        "model.predict(train_loader)"
      ],
      "execution_count": 31,
      "outputs": [
        {
          "output_type": "stream",
          "text": [
            "/usr/local/lib/python3.6/dist-packages/torch/nn/modules/container.py:100: UserWarning: Implicit dimension choice for softmax has been deprecated. Change the call to include dim=X as an argument.\n",
            "  input = module(input)\n"
          ],
          "name": "stderr"
        },
        {
          "output_type": "execute_result",
          "data": {
            "text/plain": [
              "0.8562"
            ]
          },
          "metadata": {
            "tags": []
          },
          "execution_count": 31
        }
        {"with just 5 epochs we have reached 85 percent accuracy nearly 20 epochs might give nail bitting accuracy"
        }
      ]
    }
  ]
}
